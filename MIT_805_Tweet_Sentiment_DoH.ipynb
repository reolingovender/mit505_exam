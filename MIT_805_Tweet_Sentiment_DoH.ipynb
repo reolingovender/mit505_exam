{
  "nbformat": 4,
  "nbformat_minor": 0,
  "metadata": {
    "colab": {
      "provenance": []
    },
    "kernelspec": {
      "name": "python3",
      "display_name": "Python 3"
    },
    "language_info": {
      "name": "python"
    }
  },
  "cells": [
    {
      "cell_type": "code",
      "execution_count": null,
      "metadata": {
        "colab": {
          "base_uri": "https://localhost:8080/"
        },
        "id": "NgKIbv60qFNf",
        "outputId": "187baee8-1dad-4069-cb98-a46a90f8d4e9"
      },
      "outputs": [
        {
          "output_type": "stream",
          "name": "stdout",
          "text": [
            "Requirement already satisfied: tweepy in /usr/local/lib/python3.10/dist-packages (4.14.0)\n",
            "Requirement already satisfied: oauthlib<4,>=3.2.0 in /usr/local/lib/python3.10/dist-packages (from tweepy) (3.2.2)\n",
            "Requirement already satisfied: requests<3,>=2.27.0 in /usr/local/lib/python3.10/dist-packages (from tweepy) (2.32.3)\n",
            "Requirement already satisfied: requests-oauthlib<2,>=1.2.0 in /usr/local/lib/python3.10/dist-packages (from tweepy) (1.3.1)\n",
            "Requirement already satisfied: charset-normalizer<4,>=2 in /usr/local/lib/python3.10/dist-packages (from requests<3,>=2.27.0->tweepy) (3.4.0)\n",
            "Requirement already satisfied: idna<4,>=2.5 in /usr/local/lib/python3.10/dist-packages (from requests<3,>=2.27.0->tweepy) (3.10)\n",
            "Requirement already satisfied: urllib3<3,>=1.21.1 in /usr/local/lib/python3.10/dist-packages (from requests<3,>=2.27.0->tweepy) (2.2.3)\n",
            "Requirement already satisfied: certifi>=2017.4.17 in /usr/local/lib/python3.10/dist-packages (from requests<3,>=2.27.0->tweepy) (2024.8.30)\n"
          ]
        }
      ],
      "source": [
        "pip install tweepy"
      ]
    },
    {
      "cell_type": "code",
      "source": [
        "import tweepy\n",
        "\n",
        "# Replace with your own credentials from Twitter Developer Portal\n",
        "api_key = '9jPdP0r6m0ps8MiO2PSgcbKL8'\n",
        "api_secret = 'prwKAOx7ZqD8fjJ0Z355rY8h8kn5WBepPtphURTBlAHtBFruW0'\n",
        "access_token = '1554155402606034944-XvbMeGLXqyCp7Y2iI9qvNoG6NMOnK2'\n",
        "access_token_secret = 'fEjLr5eeCWZZikZgsovIxcjXRb0KbEKLp3KXwchDsGO6T'\n",
        "\n",
        "# Authenticate with the Twitter API\n",
        "auth = tweepy.OAuthHandler(api_key, api_secret)\n",
        "auth.set_access_token(access_token, access_token_secret)\n",
        "api = tweepy.API(auth)\n"
      ],
      "metadata": {
        "id": "m-6-qDvEqMxL"
      },
      "execution_count": null,
      "outputs": []
    },
    {
      "cell_type": "code",
      "source": [
        "import tweepy\n",
        "\n",
        "# Replace with your Bearer Token from Twitter Developer Portal for v2 access\n",
        "bearer_token = 'AAAAAAAAAAAAAAAAAAAAAIJfwwEAAAAAiyjtWotpb1G6hzOJ4zwW8W%2Fiit0%3DaZMtdmt5at4YdTpDDvvqkNIsT8w7skUKWMAqQKLqZIB2aDbDrX'\n",
        "\n",
        "# Set up the Tweepy client for API v2\n",
        "client = tweepy.Client(bearer_token=bearer_token)\n",
        "\n",
        "# Define the query to search for tweets mentioning @healthza\n",
        "query = \"@healthza -is:retweet\"  # Excludes retweets for original mentions\n",
        "\n",
        "# Retrieve recent tweets mentioning @healthza\n",
        "response = client.search_recent_tweets(query=query, max_results=10)\n",
        "\n",
        "# Display the text of each tweet\n",
        "for tweet in response.data:\n",
        "    print(tweet.text)\n"
      ],
      "metadata": {
        "colab": {
          "base_uri": "https://localhost:8080/"
        },
        "id": "QiwOAOFRqeRh",
        "outputId": "70998d6a-a822-4fcf-aa5a-d55b32967dcb"
      },
      "execution_count": null,
      "outputs": [
        {
          "output_type": "stream",
          "name": "stdout",
          "text": [
            "@andrew_mthunzi @masilela690 @SelloLibram @Action4SA @GaytonMcK @GovernmentZA @HealthZA @JoburgMPD @jsteenhuisen @SADHomeAffairs @SAPoliceService @cnnbrk @BBCBreaking Word.... If one wants to trace this, the must just use their bank card in 5 different stores... U will be amazed by one account that receives that moola\n",
            "@MAGAResource @SAHPRA1 @HealthZA , are you retards awake????\n",
            "@GautengHealth @HealthZA @WestCapeHealth @kznhealth https://t.co/684T9xMwZp\n",
            "#Covid_19 #CovidVaccines #CovidVaccinesDeath's @GautengHealth @HealthZA @WestCapeHealth @CyrilRamaphosa @alanwinde https://t.co/Z4ZyA7OcMA\n",
            "@masilela690 @SelloLibram @Action4SA @GaytonMcK @GovernmentZA @HealthZA @JoburgMPD @jsteenhuisen @SADHomeAffairs @SAPoliceService @cnnbrk @BBCBreaking So it's just political orientated the government supports them and is also benefiting from them\n",
            "@masilela690 @SelloLibram @Action4SA @GaytonMcK @GovernmentZA @HealthZA @JoburgMPD @jsteenhuisen @SADHomeAffairs @SAPoliceService @cnnbrk @BBCBreaking The thing that you probably don't know is that they working as 1 organization where they having one operator account so it is reaching that money regardless\n",
            "@masilela690 @SelloLibram @Action4SA @GaytonMcK @GovernmentZA @HealthZA @JoburgMPD @jsteenhuisen @SADHomeAffairs @SAPoliceService @cnnbrk @BBCBreaking The issue of enforcement is critical here. Due to our failure, these people end up taking advantage, and it backfires bcose people die. Bold decisions are needed from the president level going down to communities to deal with this matter.\n",
            "@masilela690 @Newzroom405 @GaytonMcK @GovernmentZA @JoburgMPD @jsteenhuisen @HealthZA @SAPoliceService @SADHomeAffairs @MbalulaFikile They have failed and always will fail.\n",
            "\n",
            "We are in this mess because of the very same useless government.\n",
            "@HeraldNMB @OscarMabuyane @MabuyaneOscar @HealthZA @Dotransport @NMandelaBaymuni @DAEasternCape @EASTERNCAPEGOV @ec_health2 @MYANC @Our_DA @SAHRCommission\n",
            "@TheTruthPanther When? cause this urgent @HealthZA please dont postpone this decision\n"
          ]
        }
      ]
    },
    {
      "cell_type": "code",
      "source": [],
      "metadata": {
        "id": "LzNIMMJdq4q4"
      },
      "execution_count": null,
      "outputs": []
    }
  ]
}